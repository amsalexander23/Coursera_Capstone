{
 "cells": [
  {
   "cell_type": "markdown",
   "metadata": {},
   "source": [
    "<h1>Segmenting and Clustering Neighborhoods in Toronto</h1>\n",
    "<h4>By: Alexander Stetzer</h4>"
   ]
  },
  {
   "cell_type": "code",
   "execution_count": 16,
   "metadata": {},
   "outputs": [],
   "source": [
    "import pandas as pd\n",
    "pd.set_option('display.max_columns', None)\n",
    "pd.set_option('display.max_rows', None)\n",
    "import requests \n",
    "from bs4 import BeautifulSoup"
   ]
  },
  {
   "cell_type": "markdown",
   "metadata": {},
   "source": [
    "<h2>Part One:Toronto Neighborhoods and Postal Codes DataFrame</h2>"
   ]
  },
  {
   "cell_type": "code",
   "execution_count": 17,
   "metadata": {},
   "outputs": [],
   "source": [
    "#url of the postal codes for toronto and processing of url to useable html\n",
    "url = 'http://en.wikipedia.org/wiki/List_of_postal_codes_of_Canada:_M'\n",
    "html = requests.get(url)\n",
    "d = html.text\n",
    "\n",
    "#Creation of the BeautifulSoup object\n",
    "soup = BeautifulSoup(d, 'html5lib')\n"
   ]
  },
  {
   "cell_type": "code",
   "execution_count": 18,
   "metadata": {
    "scrolled": true
   },
   "outputs": [
    {
     "name": "stdout",
     "output_type": "stream",
     "text": [
      "  Postal Code           Borough                      Neighborhood\n",
      "0         M3A        North York                         Parkwoods\n",
      "1         M4A        North York                  Victoria Village\n",
      "2         M5A  Downtown Toronto         Regent Park, Harbourfront\n",
      "3         M6A        North York  Lawrence Manor, Lawrence Heights\n",
      "4         M7A      Queen's Park     Ontario Provincial Government\n"
     ]
    }
   ],
   "source": [
    "#Empty list used to gather all of the Postal Data\n",
    "toronto_list = []\n",
    "postal_table = soup.find('table')\n",
    "\n",
    "#Loop to go through the table data and extract the Postal Codes, Boroughs, and Neighborhoods of Toronto\n",
    "for item in postal_table.findAll('td'):\n",
    "    code = {}\n",
    "    if item.span.text == 'Not assigned': #used to remove all of the postal codes with no Borough assignment\n",
    "        pass\n",
    "    else:\n",
    "        code['Postal Code'] = item.p.text[:3]\n",
    "        code['Borough'] = item.span.text.split('(')[0]\n",
    "        code['Neighborhood'] = item.span.text.split('(')[1].replace(' /', ',').replace(')','').strip(' ')\n",
    "        toronto_list.append(code)\n",
    "    \n",
    "#Creation of the DataFrame from the list created using the previous loop\n",
    "toronto_df = pd.DataFrame(toronto_list)\n",
    "toronto_df['Borough']=toronto_df['Borough'].replace({'Downtown TorontoStn A PO Boxes25 The Esplanade':'Downtown Toronto Stn A',\n",
    "                                             'East TorontoBusiness reply mail Processing Centre969 Eastern':'East Toronto Business',\n",
    "                                             'EtobicokeNorthwest':'Etobicoke Northwest','East YorkEast Toronto':'East York/East Toronto',\n",
    "                                             'MississaugaCanada Post Gateway Processing Centre':'Mississauga'})\n",
    "\n",
    "print(toronto_df.head())"
   ]
  },
  {
   "cell_type": "code",
   "execution_count": 28,
   "metadata": {},
   "outputs": [
    {
     "name": "stdout",
     "output_type": "stream",
     "text": [
      "Postal Code     object\n",
      "Borough         object\n",
      "Neighborhood    object\n",
      "dtype: object\n"
     ]
    }
   ],
   "source": [
    "print(toronto_df.dtypes)"
   ]
  },
  {
   "cell_type": "markdown",
   "metadata": {},
   "source": [
    "<h2>Part Two: Latitude and Longitude of Neighborhoods</h2>"
   ]
  },
  {
   "cell_type": "code",
   "execution_count": 20,
   "metadata": {},
   "outputs": [],
   "source": [
    "#!pip install geocoder\n",
    "#import geocoder\n",
    "import pandas as pd"
   ]
  },
  {
   "cell_type": "code",
   "execution_count": 21,
   "metadata": {},
   "outputs": [],
   "source": [
    "file = 'Geospatial_Coordinates.csv'"
   ]
  },
  {
   "cell_type": "code",
   "execution_count": 34,
   "metadata": {},
   "outputs": [
    {
     "name": "stdout",
     "output_type": "stream",
     "text": [
      "  Postal Code   Latitude  Longitude\n",
      "0         M1B  43.806686 -79.194353\n",
      "1         M1C  43.784535 -79.160497\n",
      "2         M1E  43.763573 -79.188711\n",
      "3         M1G  43.770992 -79.216917\n",
      "4         M1H  43.773136 -79.239476\n"
     ]
    }
   ],
   "source": [
    "geo_df = pd.read_csv(file)\n",
    "print(geo_df.head())"
   ]
  },
  {
   "cell_type": "code",
   "execution_count": 36,
   "metadata": {},
   "outputs": [
    {
     "name": "stdout",
     "output_type": "stream",
     "text": [
      "  Postal Code           Borough                      Neighborhood   Latitude  \\\n",
      "0         M3A        North York                         Parkwoods  43.753259   \n",
      "1         M4A        North York                  Victoria Village  43.725882   \n",
      "2         M5A  Downtown Toronto         Regent Park, Harbourfront  43.654260   \n",
      "3         M6A        North York  Lawrence Manor, Lawrence Heights  43.718518   \n",
      "4         M7A      Queen's Park     Ontario Provincial Government  43.662301   \n",
      "\n",
      "   Longitude  \n",
      "0 -79.329656  \n",
      "1 -79.315572  \n",
      "2 -79.360636  \n",
      "3 -79.464763  \n",
      "4 -79.389494  \n"
     ]
    }
   ],
   "source": [
    "torontoGeo_df = toronto_df.merge(geo_df, on = 'Postal Code', how = 'left')\n",
    "print(torontoGeo_df.head())"
   ]
  },
  {
   "cell_type": "code",
   "execution_count": 44,
   "metadata": {},
   "outputs": [
    {
     "name": "stdout",
     "output_type": "stream",
     "text": [
      "    Postal Code                 Borough  \\\n",
      "0           M3A              North York   \n",
      "1           M4A              North York   \n",
      "2           M5A        Downtown Toronto   \n",
      "3           M6A              North York   \n",
      "4           M7A            Queen's Park   \n",
      "5           M9A               Etobicoke   \n",
      "6           M1B             Scarborough   \n",
      "7           M3B              North York   \n",
      "8           M4B               East York   \n",
      "9           M5B        Downtown Toronto   \n",
      "10          M6B              North York   \n",
      "11          M9B               Etobicoke   \n",
      "12          M1C             Scarborough   \n",
      "14          M4C               East York   \n",
      "15          M5C        Downtown Toronto   \n",
      "16          M6C                    York   \n",
      "17          M9C               Etobicoke   \n",
      "18          M1E             Scarborough   \n",
      "19          M4E            East Toronto   \n",
      "20          M5E        Downtown Toronto   \n",
      "21          M6E                    York   \n",
      "22          M1G             Scarborough   \n",
      "23          M4G               East York   \n",
      "24          M5G        Downtown Toronto   \n",
      "26          M1H             Scarborough   \n",
      "29          M4H               East York   \n",
      "31          M6H            West Toronto   \n",
      "35          M4J  East York/East Toronto   \n",
      "37          M6J            West Toronto   \n",
      "41          M4K            East Toronto   \n",
      "43          M6K            West Toronto   \n",
      "47          M4L            East Toronto   \n",
      "54          M4M            East Toronto   \n",
      "56          M6M                    York   \n",
      "61          M4N         Central Toronto   \n",
      "62          M5N         Central Toronto   \n",
      "63          M6N                    York   \n",
      "64          M9N                    York   \n",
      "67          M4P         Central Toronto   \n",
      "68          M5P         Central Toronto   \n",
      "69          M6P            West Toronto   \n",
      "70          M9P               Etobicoke   \n",
      "73          M4R         Central Toronto   \n",
      "75          M6R            West Toronto   \n",
      "76          M7R             Mississauga   \n",
      "77          M9R               Etobicoke   \n",
      "92          M5W  Downtown Toronto Stn A   \n",
      "94          M9W     Etobicoke Northwest   \n",
      "100         M7Y   East Toronto Business   \n",
      "\n",
      "                                          Neighborhood   Latitude  Longitude  \n",
      "0                                            Parkwoods  43.753259 -79.329656  \n",
      "1                                     Victoria Village  43.725882 -79.315572  \n",
      "2                            Regent Park, Harbourfront  43.654260 -79.360636  \n",
      "3                     Lawrence Manor, Lawrence Heights  43.718518 -79.464763  \n",
      "4                        Ontario Provincial Government  43.662301 -79.389494  \n",
      "5                                     Islington Avenue  43.667856 -79.532242  \n",
      "6                                       Malvern, Rouge  43.806686 -79.194353  \n",
      "7                                       Don MillsNorth  43.745906 -79.352188  \n",
      "8                      Parkview Hill, Woodbine Gardens  43.706397 -79.309937  \n",
      "9                             Garden District, Ryerson  43.657162 -79.378937  \n",
      "10                                           Glencairn  43.709577 -79.445073  \n",
      "11   West Deane Park, Princess Gardens, Martin Grov...  43.650943 -79.554724  \n",
      "12              Rouge Hill, Port Union, Highland Creek  43.784535 -79.160497  \n",
      "14                                    Woodbine Heights  43.695344 -79.318389  \n",
      "15                                      St. James Town  43.651494 -79.375418  \n",
      "16                                  Humewood-Cedarvale  43.693781 -79.428191  \n",
      "17   Eringate, Bloordale Gardens, Old Burnhamthorpe...  43.643515 -79.577201  \n",
      "18                   Guildwood, Morningside, West Hill  43.763573 -79.188711  \n",
      "19                                         The Beaches  43.676357 -79.293031  \n",
      "20                                         Berczy Park  43.644771 -79.373306  \n",
      "21                                 Caledonia-Fairbanks  43.689026 -79.453512  \n",
      "22                                              Woburn  43.770992 -79.216917  \n",
      "23                                             Leaside  43.709060 -79.363452  \n",
      "24                                  Central Bay Street  43.657952 -79.387383  \n",
      "26                                           Cedarbrae  43.773136 -79.239476  \n",
      "29                                    Thorncliffe Park  43.705369 -79.349372  \n",
      "31                        Dufferin, Dovercourt Village  43.669005 -79.442259  \n",
      "35                                  The Danforth  East  43.685347 -79.338106  \n",
      "37                            Little Portugal, Trinity  43.647927 -79.419750  \n",
      "41                        The Danforth West, Riverdale  43.679557 -79.352188  \n",
      "43        Brockton, Parkdale Village, Exhibition Place  43.636847 -79.428191  \n",
      "47                      India Bazaar, The Beaches West  43.668999 -79.315572  \n",
      "54                                     Studio District  43.659526 -79.340923  \n",
      "56    Del Ray, Mount Dennis, Keelsdale and Silverthorn  43.691116 -79.476013  \n",
      "61                                       Lawrence Park  43.728020 -79.388790  \n",
      "62                                            Roselawn  43.711695 -79.416936  \n",
      "63                       Runnymede, The Junction North  43.673185 -79.487262  \n",
      "64                                              Weston  43.706876 -79.518188  \n",
      "67                                    Davisville North  43.712751 -79.390197  \n",
      "68                            Forest Hill North & West  43.696948 -79.411307  \n",
      "69                       High Park, The Junction South  43.661608 -79.464763  \n",
      "70                                           Westmount  43.696319 -79.532242  \n",
      "73                                  North Toronto West  43.715383 -79.405678  \n",
      "75                              Parkdale, Roncesvalles  43.648960 -79.456325  \n",
      "76                                      Enclave of L4W  43.636966 -79.615819  \n",
      "77   Kingsview Village, St. Phillips, Martin Grove ...  43.688905 -79.554724  \n",
      "92                                      Enclave of M5E  43.646435 -79.374846  \n",
      "94   Clairville, Humberwood, Woodbine Downs, West H...  43.706748 -79.594054  \n",
      "100                                     Enclave of M4L  43.662744 -79.321558  \n"
     ]
    }
   ],
   "source": [
    "print(torontoGeo_df.groupby('Borough').head())"
   ]
  },
  {
   "cell_type": "markdown",
   "metadata": {},
   "source": [
    "<h2>Part Three: Clustering of Neighborhoods</h2>"
   ]
  },
  {
   "cell_type": "code",
   "execution_count": null,
   "metadata": {},
   "outputs": [],
   "source": []
  }
 ],
 "metadata": {
  "kernelspec": {
   "display_name": "Python 3",
   "language": "python",
   "name": "python3"
  },
  "language_info": {
   "codemirror_mode": {
    "name": "ipython",
    "version": 3
   },
   "file_extension": ".py",
   "mimetype": "text/x-python",
   "name": "python",
   "nbconvert_exporter": "python",
   "pygments_lexer": "ipython3",
   "version": "3.8.5"
  }
 },
 "nbformat": 4,
 "nbformat_minor": 4
}
