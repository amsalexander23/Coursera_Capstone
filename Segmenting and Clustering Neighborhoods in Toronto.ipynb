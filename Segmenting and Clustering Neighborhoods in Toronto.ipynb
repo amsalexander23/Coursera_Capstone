{
 "cells": [
  {
   "cell_type": "markdown",
   "metadata": {},
   "source": [
    "<h1>Segmenting and Clustering Neighborhoods in Toronto</h1>\n",
    "<h4>By: Alexander Stetzer</h4>"
   ]
  },
  {
   "cell_type": "code",
   "execution_count": 3,
   "metadata": {},
   "outputs": [],
   "source": [
    "import pandas as pd\n",
    "pd.set_option('display.max_columns', None)\n",
    "pd.set_option('display.max_rows', None)\n",
    "import requests \n",
    "from bs4 import BeautifulSoup"
   ]
  },
  {
   "cell_type": "markdown",
   "metadata": {},
   "source": [
    "<h2>Part One:Toronto Neighborhoods and Postal Codes DataFrame</h2>"
   ]
  },
  {
   "cell_type": "code",
   "execution_count": 5,
   "metadata": {},
   "outputs": [],
   "source": [
    "#url of the postal codes for toronto and processing of url to useable html\n",
    "url = 'http://en.wikipedia.org/wiki/List_of_postal_codes_of_Canada:_M'\n",
    "html = requests.get(url)\n",
    "d = html.text\n",
    "\n",
    "#Creation of the BeautifulSoup object\n",
    "soup = BeautifulSoup(d, 'html5lib')\n"
   ]
  },
  {
   "cell_type": "code",
   "execution_count": 6,
   "metadata": {
    "scrolled": true
   },
   "outputs": [
    {
     "name": "stdout",
     "output_type": "stream",
     "text": [
      "  Postal Code           Borough                      Neighborhood\n",
      "0         M3A        North York                         Parkwoods\n",
      "1         M4A        North York                  Victoria Village\n",
      "2         M5A  Downtown Toronto         Regent Park, Harbourfront\n",
      "3         M6A        North York  Lawrence Manor, Lawrence Heights\n",
      "4         M7A      Queen's Park     Ontario Provincial Government\n"
     ]
    }
   ],
   "source": [
    "#Empty list used to gather all of the Postal Data\n",
    "toronto_list = []\n",
    "postal_table = soup.find('table')\n",
    "\n",
    "#Loop to go through the table data and extract the Postal Codes, Boroughs, and Neighborhoods of Toronto\n",
    "for item in postal_table.findAll('td'):\n",
    "    code = {}\n",
    "    if item.span.text == 'Not assigned': #used to remove all of the postal codes with no Borough assignment\n",
    "        pass\n",
    "    else:\n",
    "        code['Postal Code'] = item.p.text[:3]\n",
    "        code['Borough'] = item.span.text.split('(')[0]\n",
    "        code['Neighborhood'] = item.span.text.split('(')[1].replace(' /', ',').replace(')','').strip(' ')\n",
    "        toronto_list.append(code)\n",
    "    \n",
    "#Creation of the DataFrame from the list created using the previous loop\n",
    "toronto_df = pd.DataFrame(toronto_list)\n",
    "toronto_df['Borough']=toronto_df['Borough'].replace({'Downtown TorontoStn A PO Boxes25 The Esplanade':'Downtown Toronto Stn A',\n",
    "                                             'East TorontoBusiness reply mail Processing Centre969 Eastern':'East Toronto Business',\n",
    "                                             'EtobicokeNorthwest':'Etobicoke Northwest','East YorkEast Toronto':'East York/East Toronto',\n",
    "                                             'MississaugaCanada Post Gateway Processing Centre':'Mississauga'})\n",
    "\n",
    "print(toronto_df.head())"
   ]
  },
  {
   "cell_type": "code",
   "execution_count": 7,
   "metadata": {},
   "outputs": [
    {
     "name": "stdout",
     "output_type": "stream",
     "text": [
      "(103, 3)\n"
     ]
    }
   ],
   "source": [
    "print(toronto_df.shape)"
   ]
  },
  {
   "cell_type": "markdown",
   "metadata": {},
   "source": [
    "<h2>Part Two: Latitude and Longitude of Neighborhoods</h2>"
   ]
  },
  {
   "cell_type": "code",
   "execution_count": 2,
   "metadata": {},
   "outputs": [],
   "source": [
    "#!pip install geocoder\n",
    "#import geocoder"
   ]
  },
  {
   "cell_type": "code",
   "execution_count": null,
   "metadata": {},
   "outputs": [],
   "source": []
  },
  {
   "cell_type": "code",
   "execution_count": null,
   "metadata": {},
   "outputs": [],
   "source": []
  },
  {
   "cell_type": "code",
   "execution_count": null,
   "metadata": {},
   "outputs": [],
   "source": []
  },
  {
   "cell_type": "code",
   "execution_count": null,
   "metadata": {},
   "outputs": [],
   "source": []
  },
  {
   "cell_type": "code",
   "execution_count": null,
   "metadata": {},
   "outputs": [],
   "source": []
  },
  {
   "cell_type": "code",
   "execution_count": null,
   "metadata": {},
   "outputs": [],
   "source": []
  },
  {
   "cell_type": "code",
   "execution_count": null,
   "metadata": {},
   "outputs": [],
   "source": []
  }
 ],
 "metadata": {
  "kernelspec": {
   "display_name": "Python 3",
   "language": "python",
   "name": "python3"
  },
  "language_info": {
   "codemirror_mode": {
    "name": "ipython",
    "version": 3
   },
   "file_extension": ".py",
   "mimetype": "text/x-python",
   "name": "python",
   "nbconvert_exporter": "python",
   "pygments_lexer": "ipython3",
   "version": "3.8.5"
  }
 },
 "nbformat": 4,
 "nbformat_minor": 4
}
