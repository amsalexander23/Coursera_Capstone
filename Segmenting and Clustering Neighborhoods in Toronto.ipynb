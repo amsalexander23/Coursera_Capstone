{
 "cells": [
  {
   "cell_type": "markdown",
   "metadata": {},
   "source": [
    "<h1>Segmenting and Clustering Neighborhoods in Toronto</h1>\n",
    "<h4>By: Alexander Stetzer</h4>"
   ]
  },
  {
   "cell_type": "code",
   "execution_count": 2,
   "metadata": {},
   "outputs": [],
   "source": [
    "import pandas as pd\n",
    "pd.set_option('display.max_columns', None)\n",
    "pd.set_option('display.max_rows', None)\n",
    "import requests \n",
    "from bs4 import BeautifulSoup"
   ]
  },
  {
   "cell_type": "markdown",
   "metadata": {},
   "source": [
    "<h2>Part One:Toronto Neighborhoods and Postal Codes DataFrame</h2>"
   ]
  },
  {
   "cell_type": "code",
   "execution_count": 3,
   "metadata": {},
   "outputs": [],
   "source": [
    "#url of the postal codes for toronto and processing of url to useable html\n",
    "url = 'http://en.wikipedia.org/wiki/List_of_postal_codes_of_Canada:_M'\n",
    "html = requests.get(url)\n",
    "d = html.text\n",
    "\n",
    "#Creation of the BeautifulSoup object\n",
    "soup = BeautifulSoup(d, 'html5lib')\n"
   ]
  },
  {
   "cell_type": "code",
   "execution_count": 4,
   "metadata": {
    "scrolled": true
   },
   "outputs": [
    {
     "name": "stdout",
     "output_type": "stream",
     "text": [
      "  Postal Code           Borough                      Neighborhood\n",
      "0         M3A        North York                         Parkwoods\n",
      "1         M4A        North York                  Victoria Village\n",
      "2         M5A  Downtown Toronto         Regent Park, Harbourfront\n",
      "3         M6A        North York  Lawrence Manor, Lawrence Heights\n",
      "4         M7A      Queen's Park     Ontario Provincial Government\n"
     ]
    }
   ],
   "source": [
    "#Empty list used to gather all of the Postal Data\n",
    "toronto_list = []\n",
    "postal_table = soup.find('table')\n",
    "\n",
    "#Loop to go through the table data and extract the Postal Codes, Boroughs, and Neighborhoods of Toronto\n",
    "for item in postal_table.findAll('td'):\n",
    "    code = {}\n",
    "    if item.span.text == 'Not assigned': #used to remove all of the postal codes with no Borough assignment\n",
    "        pass\n",
    "    else:\n",
    "        code['Postal Code'] = item.p.text[:3]\n",
    "        code['Borough'] = item.span.text.split('(')[0]\n",
    "        code['Neighborhood'] = item.span.text.split('(')[1].replace(' /', ',').replace(')','').strip(' ')\n",
    "        toronto_list.append(code)\n",
    "    \n",
    "#Creation of the DataFrame from the list created using the previous loop\n",
    "toronto_df = pd.DataFrame(toronto_list)\n",
    "toronto_df['Borough']=toronto_df['Borough'].replace({'Downtown TorontoStn A PO Boxes25 The Esplanade':'Downtown Toronto Stn A',\n",
    "                                             'East TorontoBusiness reply mail Processing Centre969 Eastern':'East Toronto Business',\n",
    "                                             'EtobicokeNorthwest':'Etobicoke Northwest','East YorkEast Toronto':'East York/East Toronto',\n",
    "                                             'MississaugaCanada Post Gateway Processing Centre':'Mississauga'})\n",
    "\n",
    "print(toronto_df.head())"
   ]
  },
  {
   "cell_type": "code",
   "execution_count": 5,
   "metadata": {},
   "outputs": [
    {
     "name": "stdout",
     "output_type": "stream",
     "text": [
      "Postal Code     object\n",
      "Borough         object\n",
      "Neighborhood    object\n",
      "dtype: object\n"
     ]
    }
   ],
   "source": [
    "print(toronto_df.dtypes)"
   ]
  },
  {
   "cell_type": "markdown",
   "metadata": {},
   "source": [
    "<h2>Part Two: Latitude and Longitude of Neighborhoods</h2>"
   ]
  },
  {
   "cell_type": "code",
   "execution_count": 6,
   "metadata": {},
   "outputs": [],
   "source": [
    "#!pip install geocoder\n",
    "#import geocoder\n",
    "import pandas as pd"
   ]
  },
  {
   "cell_type": "code",
   "execution_count": 7,
   "metadata": {},
   "outputs": [],
   "source": [
    "file = 'Geospatial_Coordinates.csv'"
   ]
  },
  {
   "cell_type": "code",
   "execution_count": 8,
   "metadata": {},
   "outputs": [
    {
     "name": "stdout",
     "output_type": "stream",
     "text": [
      "  Postal Code   Latitude  Longitude\n",
      "0         M1B  43.806686 -79.194353\n",
      "1         M1C  43.784535 -79.160497\n",
      "2         M1E  43.763573 -79.188711\n",
      "3         M1G  43.770992 -79.216917\n",
      "4         M1H  43.773136 -79.239476\n"
     ]
    }
   ],
   "source": [
    "geo_df = pd.read_csv(file)\n",
    "print(geo_df.head())"
   ]
  },
  {
   "cell_type": "code",
   "execution_count": 13,
   "metadata": {},
   "outputs": [
    {
     "name": "stdout",
     "output_type": "stream",
     "text": [
      "  Postal Code           Borough                      Neighborhood   Latitude  \\\n",
      "0         M3A        North York                         Parkwoods  43.753259   \n",
      "1         M4A        North York                  Victoria Village  43.725882   \n",
      "2         M5A  Downtown Toronto         Regent Park, Harbourfront  43.654260   \n",
      "3         M6A        North York  Lawrence Manor, Lawrence Heights  43.718518   \n",
      "4         M7A      Queen's Park     Ontario Provincial Government  43.662301   \n",
      "\n",
      "   Longitude  \n",
      "0 -79.329656  \n",
      "1 -79.315572  \n",
      "2 -79.360636  \n",
      "3 -79.464763  \n",
      "4 -79.389494  \n"
     ]
    }
   ],
   "source": [
    "torontoGeo_df = toronto_df.merge(geo_df, on = 'Postal Code', how = 'left')\n",
    "print(torontoGeo_df.head())"
   ]
  },
  {
   "cell_type": "code",
   "execution_count": 11,
   "metadata": {},
   "outputs": [
    {
     "name": "stdout",
     "output_type": "stream",
     "text": [
      "                        Postal Code  Neighborhood  Latitude  Longitude\n",
      "Borough                                                               \n",
      "Central Toronto                   9             9         9          9\n",
      "Downtown Toronto                 17            17        17         17\n",
      "Downtown Toronto Stn A            1             1         1          1\n",
      "East Toronto                      4             4         4          4\n",
      "East Toronto Business             1             1         1          1\n",
      "East York                         4             4         4          4\n",
      "East York/East Toronto            1             1         1          1\n",
      "Etobicoke                        11            11        11         11\n",
      "Etobicoke Northwest               1             1         1          1\n",
      "Mississauga                       1             1         1          1\n",
      "North York                       24            24        24         24\n",
      "Queen's Park                      1             1         1          1\n",
      "Scarborough                      17            17        17         17\n",
      "West Toronto                      6             6         6          6\n",
      "York                              5             5         5          5\n"
     ]
    }
   ],
   "source": [
    "print(torontoGeo_df.groupby('Borough').count())"
   ]
  },
  {
   "cell_type": "markdown",
   "metadata": {},
   "source": [
    "<h2>Part Three: Clustering of Neighborhoods</h2>"
   ]
  },
  {
   "cell_type": "code",
   "execution_count": null,
   "metadata": {},
   "outputs": [],
   "source": []
  }
 ],
 "metadata": {
  "kernelspec": {
   "display_name": "Python 3",
   "language": "python",
   "name": "python3"
  },
  "language_info": {
   "codemirror_mode": {
    "name": "ipython",
    "version": 3
   },
   "file_extension": ".py",
   "mimetype": "text/x-python",
   "name": "python",
   "nbconvert_exporter": "python",
   "pygments_lexer": "ipython3",
   "version": "3.8.5"
  }
 },
 "nbformat": 4,
 "nbformat_minor": 4
}
